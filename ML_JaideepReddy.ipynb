{
  "nbformat": 4,
  "nbformat_minor": 0,
  "metadata": {
    "colab": {
      "name": "MLab10.ipynb",
      "provenance": [],
      "collapsed_sections": [],
      "authorship_tag": "ABX9TyPQdZVpkST2qj5U4E6VGv9C",
      "include_colab_link": true
    },
    "kernelspec": {
      "name": "python3",
      "display_name": "Python 3"
    }
  },
  "cells": [
    {
      "cell_type": "markdown",
      "metadata": {
        "id": "view-in-github",
        "colab_type": "text"
      },
      "source": [
        "<a href=\"https://colab.research.google.com/github/jaideep99/ML-Assignment/blob/master/ML_JaideepReddy.ipynb\" target=\"_parent\"><img src=\"https://colab.research.google.com/assets/colab-badge.svg\" alt=\"Open In Colab\"/></a>"
      ]
    },
    {
      "cell_type": "code",
      "metadata": {
        "id": "K1oUtWdLKumE",
        "colab_type": "code",
        "colab": {}
      },
      "source": [
        "import numpy as np\n",
        "import random\n",
        "import scipy\n",
        "from scipy.stats import norm\n",
        "import matplotlib.pyplot as plt\n",
        "\n",
        "random.seed(1)"
      ],
      "execution_count": 0,
      "outputs": []
    },
    {
      "cell_type": "code",
      "metadata": {
        "id": "jopXEROw_egj",
        "colab_type": "code",
        "colab": {
          "base_uri": "https://localhost:8080/",
          "height": 83
        },
        "outputId": "d655e460-3619-4962-c643-7719b48b6478"
      },
      "source": [
        "def dice(prob=None):\n",
        "    if not prob:\n",
        "        return np.random.choice(a=[1,2,3,4,5,6])\n",
        "    else:\n",
        "        return np.random.choice(a=[1,2,3,4,5,6],p=prob)\n",
        "           \n",
        "def move(n=100,prob=None):\n",
        "    reach=0\n",
        "    for _ in range(n):\n",
        "        throws=250\n",
        "        pos=0\n",
        "        while throws:\n",
        "            throws-=1\n",
        "            curr=dice(prob)\n",
        "            if pos>60:\n",
        "                reach+=1\n",
        "                break\n",
        "                \n",
        "            if curr in {1,2}:\n",
        "                pos-=1\n",
        "            elif curr in {3,4,5}:\n",
        "                pos+=1\n",
        "            else:\n",
        "                curr=dice(prob)\n",
        "                pos+=curr\n",
        "    print(reach/n)\n",
        "\n",
        "#without biased probabilties\n",
        "move() \n",
        "move(prob=[0.2,0.3,0.2,0.1,0.1,0.1]) \n",
        "\n",
        "#with biased probabilities\n",
        "move(500)\n",
        "move(500,[0.2,0.3,0.2,0.1,0.1,0.1])"
      ],
      "execution_count": 474,
      "outputs": [
        {
          "output_type": "stream",
          "text": [
            "1.0\n",
            "0.27\n",
            "1.0\n",
            "0.31\n"
          ],
          "name": "stdout"
        }
      ]
    },
    {
      "cell_type": "markdown",
      "metadata": {
        "id": "bz2JelQ8EL49",
        "colab_type": "text"
      },
      "source": [
        "Linear Regression with Gradient Descent\n"
      ]
    },
    {
      "cell_type": "code",
      "metadata": {
        "id": "lEys_sMUFjka",
        "colab_type": "code",
        "colab": {}
      },
      "source": [
        "class Regression_Gradient:\n",
        "\n",
        "  def __init__(self):\n",
        "    pass\n",
        "\n",
        "  def generatedata(self,a,b,c):\n",
        "    x = norm.rvs(0,1,200)\n",
        "    z = norm.rvs(1,2,200)\n",
        "    eps = norm.rvs(0,0.5,200)\n",
        "    y = c+(a*x)+(b*z)+eps\n",
        "\n",
        "    self.x = x\n",
        "    self.z = z\n",
        "    self.y = y\n",
        "\n",
        "  def fit(self,lr=0.05):\n",
        "    #weight and bias\n",
        "    self.w1 = 0\n",
        "    self.w2 = 0\n",
        "    self.b = 0\n",
        "\n",
        "    for xs,zs,ys in zip(self.x,self.z,self.y):\n",
        "      \n",
        "      yp = (self.w1*xs)+(self.w2*zs)+b\n",
        "\n",
        "      gw1 = -2*(xs*(ys-yp))\n",
        "      gw2 = -2*(zs*(ys-yp))\n",
        "      gb = -2*(ys-yp)\n",
        "\n",
        "      self.w1 = self.w1-(lr*gw1)\n",
        "      self.w2 = self.w2-(lr*gw2)\n",
        "      self.b = self.b-(lr*gb)\n",
        "\n",
        "    return self.w1,self.w2,self.b\n",
        "\n",
        "  def predict(self,X):\n",
        "\n",
        "      x1 = X[0]\n",
        "      x2 = X[1]\n",
        "      \n",
        "      pred = [self.b+(self.w1*xs)+(self.w2*zs) for xs,zs in zip(x1,x2)]\n",
        "\n",
        "      return pred\n",
        "\n"
      ],
      "execution_count": 0,
      "outputs": []
    },
    {
      "cell_type": "code",
      "metadata": {
        "id": "IOLUz7CEGoOp",
        "colab_type": "code",
        "outputId": "43568ed4-3ffe-46b6-b155-6558d592467e",
        "colab": {
          "base_uri": "https://localhost:8080/",
          "height": 33
        }
      },
      "source": [
        "model = Regression_Gradient()\n",
        "\n",
        "model.generatedata(0.5,0.7,-1)\n",
        "\n",
        "model.fit()"
      ],
      "execution_count": 476,
      "outputs": [
        {
          "output_type": "execute_result",
          "data": {
            "text/plain": [
              "(0.44926812528448423, 0.5794686184427031, 0.2485240289053075)"
            ]
          },
          "metadata": {
            "tags": []
          },
          "execution_count": 476
        }
      ]
    },
    {
      "cell_type": "code",
      "metadata": {
        "id": "uYIfEZI7RfMZ",
        "colab_type": "code",
        "outputId": "ec544ca9-8a3c-48dc-b228-860bec109f41",
        "colab": {
          "base_uri": "https://localhost:8080/",
          "height": 33
        }
      },
      "source": [
        "model.predict([[0.3,0.4,0.5],[1.3,1.7,1.8]])"
      ],
      "execution_count": 477,
      "outputs": [
        {
          "output_type": "execute_result",
          "data": {
            "text/plain": [
              "[1.136613670466167, 1.4133279303716964, 1.5162016047444151]"
            ]
          },
          "metadata": {
            "tags": []
          },
          "execution_count": 477
        }
      ]
    },
    {
      "cell_type": "markdown",
      "metadata": {
        "id": "hglmmCuan61Z",
        "colab_type": "text"
      },
      "source": [
        "Linear Regression With L1 and L2 Regularization"
      ]
    },
    {
      "cell_type": "code",
      "metadata": {
        "id": "mLKEODdLO0rK",
        "colab_type": "code",
        "colab": {}
      },
      "source": [
        "class Linear_Gradient_Regularization:\n",
        "\n",
        "  def __init__(self):\n",
        "    pass\n",
        "\n",
        "  def generatedata(self,a,b,c):\n",
        "    x = norm.rvs(0,1,200)\n",
        "    z = norm.rvs(1,2,200)\n",
        "    eps = norm.rvs(0,0.5,200)\n",
        "    y = c+(a*x)+(b*z)+eps\n",
        "\n",
        "    self.x = x\n",
        "    self.z = z\n",
        "    self.y = y\n",
        "\n",
        "  def fit(self,lr=0.05,L1=0.05,L2=0.01):\n",
        "      self.w1 = 0\n",
        "      self.w2 = 0\n",
        "      self.b = 0\n",
        "\n",
        "      for xs,zs,ys in zip(self.x,self.z,self.y):\n",
        "        \n",
        "        yp = (self.w1*xs)+(self.w2*zs)+self.b\n",
        "\n",
        "        gw1 = -2*(xs*(ys-yp))\n",
        "        gw2 = -2*(zs*(ys-yp))\n",
        "        gb = -2*(ys-yp)\n",
        "\n",
        "        gw1 = gw1+(L1*gw1)+(L2*(gw1**2))\n",
        "        gw2 = gw2+(L1*gw2)+(L2*(gw2**2))\n",
        "        gb = gw1+(L1*gb)+(L2*(gb**2))\n",
        "\n",
        "        self.w1 = self.w1-(lr*gw1)\n",
        "        self.w2 = self.w2-(lr*gw2)\n",
        "        self.b = self.b-(lr*gb)\n",
        "\n",
        "      return self.w1,self.w2,self.b\n",
        "\n",
        "  def predict(self,X):\n",
        "      \n",
        "      x1 = X[0]\n",
        "      x2 = X[1]\n",
        "\n",
        "      pred = [self.b+(self.w1*xs)+(self.w2*zs) for xs,zs in zip(x1,x2)]\n",
        "\n",
        "      return pred\n",
        "    \n"
      ],
      "execution_count": 0,
      "outputs": []
    },
    {
      "cell_type": "code",
      "metadata": {
        "id": "kN4GNGgeN3sW",
        "colab_type": "code",
        "outputId": "20f55725-fca0-4b36-daf5-43e58e852c25",
        "colab": {
          "base_uri": "https://localhost:8080/",
          "height": 100
        }
      },
      "source": [
        "model = Linear_Gradient_Regularization()\n",
        "\n",
        "model.generatedata(0.6,0.8,-2)\n",
        "\n",
        "model.fit(0.05,0.05,0.01)"
      ],
      "execution_count": 479,
      "outputs": [
        {
          "output_type": "stream",
          "text": [
            "/usr/local/lib/python3.6/dist-packages/ipykernel_launcher.py:29: RuntimeWarning: overflow encountered in double_scalars\n",
            "/usr/local/lib/python3.6/dist-packages/ipykernel_launcher.py:30: RuntimeWarning: overflow encountered in double_scalars\n",
            "/usr/local/lib/python3.6/dist-packages/ipykernel_launcher.py:31: RuntimeWarning: overflow encountered in double_scalars\n",
            "/usr/local/lib/python3.6/dist-packages/ipykernel_launcher.py:23: RuntimeWarning: invalid value encountered in double_scalars\n"
          ],
          "name": "stderr"
        },
        {
          "output_type": "execute_result",
          "data": {
            "text/plain": [
              "(nan, nan, nan)"
            ]
          },
          "metadata": {
            "tags": []
          },
          "execution_count": 479
        }
      ]
    },
    {
      "cell_type": "code",
      "metadata": {
        "id": "kqkFWmZZQ_Jv",
        "colab_type": "code",
        "outputId": "80ba7e82-44c8-4d9e-dadc-0a5af757b08b",
        "colab": {
          "base_uri": "https://localhost:8080/",
          "height": 33
        }
      },
      "source": [
        "model.predict([[0.3,0.4,0.5],[1.3,1.7,1.8]])"
      ],
      "execution_count": 480,
      "outputs": [
        {
          "output_type": "execute_result",
          "data": {
            "text/plain": [
              "[nan, nan, nan]"
            ]
          },
          "metadata": {
            "tags": []
          },
          "execution_count": 480
        }
      ]
    },
    {
      "cell_type": "markdown",
      "metadata": {
        "id": "9kV3dNmQJdv1",
        "colab_type": "text"
      },
      "source": [
        "Logistic Regression"
      ]
    },
    {
      "cell_type": "code",
      "metadata": {
        "id": "NLMX9PJ-JhdH",
        "colab_type": "code",
        "colab": {}
      },
      "source": [
        "class LogisticRegression:\n",
        "  random.seed(1)\n",
        "  def __init__(self):\n",
        "    pass\n",
        "\n",
        "  def sigmoid(self,x,m,c):\n",
        "    return (1/(1+np.exp(-(x*m+c))))\n",
        "  \n",
        "  def generatedata(self,m,c):\n",
        "    self.x = norm.rvs(0,1,200)\n",
        "    self.y = self.sigmoid(self.x,m,c)\n",
        "\n",
        "\n",
        "  def fit(self,lr=0.01):\n",
        "\n",
        "    self.w = 0\n",
        "    self.b = 0\n",
        "\n",
        "    for xs,ys in zip(self.x,self.y):\n",
        "      \n",
        "      yp = self.sigmoid(xs,self.w,self.b)\n",
        "\n",
        "      #gradients\n",
        "      gw = xs*(yp-ys)\n",
        "      gb = (yp-ys)\n",
        "\n",
        "      self.w = self.w - (lr*gw)\n",
        "      self.b = self.b - (lr*gb)\n",
        "\n",
        "    return self.w,self.b\n",
        "\n",
        "  def predict(self,X):\n",
        "    yp = []\n",
        "    for ys in X:\n",
        "      ys = self.sigmoid(ys,self.w,self.b)\n",
        "      if(ys<0.5):\n",
        "        yp.append(0)\n",
        "      else:\n",
        "        yp.append(1)\n",
        "\n",
        "    return yp\n"
      ],
      "execution_count": 0,
      "outputs": []
    },
    {
      "cell_type": "code",
      "metadata": {
        "id": "XA0ZXIMNfsCy",
        "colab_type": "code",
        "colab": {}
      },
      "source": [
        "model = LogisticRegression()\n",
        "\n",
        "model.generatedata(0.5,1)"
      ],
      "execution_count": 0,
      "outputs": []
    },
    {
      "cell_type": "code",
      "metadata": {
        "id": "dhTTF1jAh9Db",
        "colab_type": "code",
        "colab": {
          "base_uri": "https://localhost:8080/",
          "height": 33
        },
        "outputId": "e47d5b34-8d58-4368-f149-5c3eb0d2cea9"
      },
      "source": [
        "model.fit(lr =0.05)"
      ],
      "execution_count": 483,
      "outputs": [
        {
          "output_type": "execute_result",
          "data": {
            "text/plain": [
              "(0.40022051030624045, 0.8615107069342961)"
            ]
          },
          "metadata": {
            "tags": []
          },
          "execution_count": 483
        }
      ]
    },
    {
      "cell_type": "code",
      "metadata": {
        "id": "7DqjaoERif3Z",
        "colab_type": "code",
        "colab": {
          "base_uri": "https://localhost:8080/",
          "height": 33
        },
        "outputId": "1bf04375-e069-46f7-9ba6-c74685d78a75"
      },
      "source": [
        "model.predict([0.5,0.3,0.9])"
      ],
      "execution_count": 484,
      "outputs": [
        {
          "output_type": "execute_result",
          "data": {
            "text/plain": [
              "[1, 1, 1]"
            ]
          },
          "metadata": {
            "tags": []
          },
          "execution_count": 484
        }
      ]
    },
    {
      "cell_type": "markdown",
      "metadata": {
        "id": "w_CRcbYLnzEa",
        "colab_type": "text"
      },
      "source": [
        "Logistic Regression With L1 and L2 Regularization"
      ]
    },
    {
      "cell_type": "code",
      "metadata": {
        "id": "yfZyoB-wnOJE",
        "colab_type": "code",
        "colab": {}
      },
      "source": [
        "class LogisticRegressionRegularization:\n",
        "  random.seed(1)\n",
        "  def __init__(self):\n",
        "    pass\n",
        "\n",
        "  def sigmoid(self,x,m,c):\n",
        "    return (1/(1+np.exp(-(x*m+c))))\n",
        "  \n",
        "  def generatedata(self,m,c):\n",
        "    self.x = norm.rvs(0,1,200)\n",
        "    self.y = self.sigmoid(self.x,m,c)\n",
        "\n",
        "\n",
        "  def fit(self,lr=0.01,L1=0.5,L2=0.1):\n",
        "\n",
        "    self.w = 0\n",
        "    self.b = 0\n",
        "\n",
        "    for xs,ys in zip(self.x,self.y):\n",
        "      \n",
        "      yp = self.sigmoid(xs,self.w,self.b)\n",
        "\n",
        "      #gradients\n",
        "      gw = xs*(yp-ys)\n",
        "      gb = (yp-ys)\n",
        "\n",
        "      gw = gw+(L1*gw)+(L2*(gw**2))\n",
        "      gb = gb+(L1*gb)+(L2*(gb**2))\n",
        "\n",
        "      self.w = self.w - (lr*gw)\n",
        "      self.b = self.b - (lr*gb)\n",
        "\n",
        "    return self.w,self.b\n",
        "\n",
        "  def predict(self,X):\n",
        "    yp = []\n",
        "    for ys in X:\n",
        "      ys = self.sigmoid(ys,self.w,self.b)\n",
        "      if(ys<0.5):\n",
        "        yp.append(0)\n",
        "      else:\n",
        "        yp.append(1)\n",
        "\n",
        "    return yp"
      ],
      "execution_count": 0,
      "outputs": []
    },
    {
      "cell_type": "code",
      "metadata": {
        "id": "Rpg1agtnng_X",
        "colab_type": "code",
        "colab": {}
      },
      "source": [
        "model = LogisticRegressionRegularization()\n",
        "\n",
        "model.generatedata(0.5,1)"
      ],
      "execution_count": 0,
      "outputs": []
    },
    {
      "cell_type": "code",
      "metadata": {
        "id": "06VtBe_3nkMP",
        "colab_type": "code",
        "colab": {
          "base_uri": "https://localhost:8080/",
          "height": 33
        },
        "outputId": "0ff479d5-ba46-4c86-d2a9-a08c0ea1dde6"
      },
      "source": [
        "model.fit(lr = 0.05,L1=0.4,L2=0.1)"
      ],
      "execution_count": 487,
      "outputs": [
        {
          "output_type": "execute_result",
          "data": {
            "text/plain": [
              "(0.4146171908031433, 0.9148239088154118)"
            ]
          },
          "metadata": {
            "tags": []
          },
          "execution_count": 487
        }
      ]
    },
    {
      "cell_type": "code",
      "metadata": {
        "id": "zN3AWML-nur3",
        "colab_type": "code",
        "colab": {
          "base_uri": "https://localhost:8080/",
          "height": 33
        },
        "outputId": "3352b1e5-1627-472f-bfc3-1221e982d5f2"
      },
      "source": [
        "model.predict([0.5,0.3,0.9])"
      ],
      "execution_count": 488,
      "outputs": [
        {
          "output_type": "execute_result",
          "data": {
            "text/plain": [
              "[1, 1, 1]"
            ]
          },
          "metadata": {
            "tags": []
          },
          "execution_count": 488
        }
      ]
    },
    {
      "cell_type": "markdown",
      "metadata": {
        "id": "cUoQpIR-oFZJ",
        "colab_type": "text"
      },
      "source": [
        "K-Means Clustering"
      ]
    },
    {
      "cell_type": "code",
      "metadata": {
        "id": "TYgfvNe2uZ5-",
        "colab_type": "code",
        "colab": {}
      },
      "source": [
        "import math"
      ],
      "execution_count": 0,
      "outputs": []
    },
    {
      "cell_type": "code",
      "metadata": {
        "id": "ofsO8tSooEh8",
        "colab_type": "code",
        "colab": {}
      },
      "source": [
        "class KmeansClustering:\n",
        "\n",
        "  def __init__(self):\n",
        "    pass\n",
        "\n",
        "  def generatedata(self):\n",
        "    X1 = -2 * np.random.rand(100,2)\n",
        "    X2 = 1 + 2 * np.random.rand(50,2)\n",
        "    X1[50:100, :] = X2\n",
        "\n",
        "    self.X = X1[:,0]\n",
        "    self.Y = X1[:,1]\n",
        "\n",
        "    plt.scatter(self.X, self.Y, s = 50,c='b')\n",
        "    plt.show()\n",
        "\n",
        "    print(len(self.X))\n",
        "    print(len(self.Y))\n",
        "\n",
        "  def distance(self,a,b):\n",
        "\n",
        "    return math.sqrt((a[0]-b[0])**2 + (a[1]-b[1])**2)\n",
        "\n",
        "  def cluster(self,k = 2,iters = 50):\n",
        "\n",
        "    data = list(zip(self.X,self.Y))\n",
        "    centroids = data[:k]\n",
        "    print(\"initial\")\n",
        "    print(centroids)\n",
        "\n",
        "    for iter in range(iters):\n",
        "\n",
        "      c = [ [] for i in range(k)]\n",
        "\n",
        "      for xs,ys in zip(self.X,self.Y):\n",
        "\n",
        "        clust = 0\n",
        "        min = -1\n",
        "        i = 0\n",
        "        flag = 0\n",
        "        for d in centroids:\n",
        "          if(flag==0):\n",
        "            min = self.distance((xs,ys),d)\n",
        "            flag = 1\n",
        "          else:\n",
        "              d = self.distance((xs,ys),d)\n",
        "              if(min>d):\n",
        "                clust = i\n",
        "                min = d\n",
        "          \n",
        "          i+=1\n",
        "\n",
        "        c[clust].append([xs,ys])\n",
        "\n",
        "      for i in range(len(c)):\n",
        "        xp = sum(np.array(c[i])[:,0])/len(c[i])\n",
        "        yp = sum(np.array(c[i])[:,1])/len(c[i])\n",
        "        centroids[i] = [xp,yp]\n",
        "\n",
        "\n",
        "    print(centroids)\n",
        "    centroids = np.array(centroids)\n",
        "    plt.scatter(self.X, self.Y, s = 20,c='b')\n",
        "    plt.scatter(centroids[:,0],centroids[:,1],c='r')\n",
        "    self.cents = centroids\n",
        "\n",
        "  def predict(self,Xs):\n",
        "    for xs,ys in Xs:\n",
        "      clust = 0\n",
        "      min = -1\n",
        "      i = 0\n",
        "      flag = 0\n",
        "      for d in self.cents:\n",
        "        if(flag==0):\n",
        "           min = self.distance((xs,ys),d)\n",
        "           flag = 1\n",
        "        else:\n",
        "\n",
        "          d = self.distance((xs,ys),d)\n",
        "          if(min>d):\n",
        "           clust = i\n",
        "           min = d\n",
        "              \n",
        "        i+=1\n",
        "\n",
        "      print(clust)"
      ],
      "execution_count": 0,
      "outputs": []
    },
    {
      "cell_type": "code",
      "metadata": {
        "id": "54AXudTapIJG",
        "colab_type": "code",
        "colab": {
          "base_uri": "https://localhost:8080/",
          "height": 297
        },
        "outputId": "33b4a7f4-14db-4b48-a91e-903a8b27da36"
      },
      "source": [
        "model = KmeansClustering()\n",
        "\n",
        "model.generatedata()"
      ],
      "execution_count": 491,
      "outputs": [
        {
          "output_type": "display_data",
          "data": {
            "image/png": "[encoded data removed]",
            "text/plain": [
              "<Figure size 432x288 with 1 Axes>"
            ]
          },
          "metadata": {
            "tags": [],
            "needs_background": "light"
          }
        },
        {
          "output_type": "stream",
          "text": [
            "100\n",
            "100\n"
          ],
          "name": "stdout"
        }
      ]
    },
    {
      "cell_type": "code",
      "metadata": {
        "id": "Yo0XJYG8qota",
        "colab_type": "code",
        "colab": {
          "base_uri": "https://localhost:8080/",
          "height": 314
        },
        "outputId": "41a4d943-897e-41e1-8910-c991ddf57f60"
      },
      "source": [
        "model.cluster(k=3,iters=30)"
      ],
      "execution_count": 492,
      "outputs": [
        {
          "output_type": "stream",
          "text": [
            "initial\n",
            "[(-0.49647682534602344, -0.5753943696524497), (-0.627192767788612, -0.2944775661932737), (-1.1788406563412621, -0.9353143737406928)]\n",
            "[[-0.45149036776980567, -0.8094662032263042], [2.0591761839051483, 1.9893014472350599], [-1.40977651124211, -1.2479721460530255]]\n"
          ],
          "name": "stdout"
        },
        {
          "output_type": "display_data",
          "data": {
            "image/png": "[encoded data removed]",
            "text/plain": [
              "<Figure size 432x288 with 1 Axes>"
            ]
          },
          "metadata": {
            "tags": [],
            "needs_background": "light"
          }
        }
      ]
    },
    {
      "cell_type": "code",
      "metadata": {
        "id": "OWsWyKCOvpeu",
        "colab_type": "code",
        "colab": {
          "base_uri": "https://localhost:8080/",
          "height": 66
        },
        "outputId": "d7282e63-a15b-4441-b2e0-f7d7de85c1bd"
      },
      "source": [
        "model.predict([[-1,2],[2,2],[-1,-1]])"
      ],
      "execution_count": 493,
      "outputs": [
        {
          "output_type": "stream",
          "text": [
            "0\n",
            "1\n",
            "2\n"
          ],
          "name": "stdout"
        }
      ]
    }
  ]
}