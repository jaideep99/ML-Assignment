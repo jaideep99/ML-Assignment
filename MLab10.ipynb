{
  "nbformat": 4,
  "nbformat_minor": 0,
  "metadata": {
    "colab": {
      "name": "MLab10.ipynb",
      "provenance": [],
      "collapsed_sections": [],
      "authorship_tag": "ABX9TyNgPJZynqTI4mlyry93TQ4x",
      "include_colab_link": true
    },
    "kernelspec": {
      "name": "python3",
      "display_name": "Python 3"
    }
  },
  "cells": [
    {
      "cell_type": "markdown",
      "metadata": {
        "id": "view-in-github",
        "colab_type": "text"
      },
      "source": [
        "<a href=\"https://colab.research.google.com/github/jaideep99/ML-Assignment/blob/master/MLab10.ipynb\" target=\"_parent\"><img src=\"https://colab.research.google.com/assets/colab-badge.svg\" alt=\"Open In Colab\"/></a>"
      ]
    },
    {
      "cell_type": "code",
      "metadata": {
        "id": "K1oUtWdLKumE",
        "colab_type": "code",
        "colab": {}
      },
      "source": [
        "import numpy as np\n",
        "import random\n",
        "import scipy\n",
        "from scipy.stats import norm\n",
        "import matplotlib.pyplot as plt\n",
        "\n",
        "random.seed(1)"
      ],
      "execution_count": 0,
      "outputs": []
    },
    {
      "cell_type": "markdown",
      "metadata": {
        "id": "ZSRjhQQH7v5F",
        "colab_type": "text"
      },
      "source": [
        "Question 1:\n",
        "Rolling Dice Problem"
      ]
    },
    {
      "cell_type": "code",
      "metadata": {
        "id": "jopXEROw_egj",
        "colab_type": "code",
        "outputId": "1ab41178-db10-46ef-b9e4-44418facb32a",
        "colab": {
          "base_uri": "https://localhost:8080/",
          "height": 83
        }
      },
      "source": [
        "def dice(prob=None):\n",
        "    if not prob:\n",
        "        return np.random.choice(a=[1,2,3,4,5,6])\n",
        "    else:\n",
        "        return np.random.choice(a=[1,2,3,4,5,6],p=prob)\n",
        "           \n",
        "def move(n=100,prob=None):\n",
        "    reach=0\n",
        "    for _ in range(n):\n",
        "        throws=250\n",
        "        pos=0\n",
        "        while throws:\n",
        "            throws-=1\n",
        "            curr=dice(prob)\n",
        "            if pos>60:\n",
        "                reach+=1\n",
        "                break\n",
        "                \n",
        "            if curr in {1,2}:\n",
        "                pos-=1\n",
        "            elif curr in {3,4,5}:\n",
        "                pos+=1\n",
        "            else:\n",
        "                curr=dice(prob)\n",
        "                pos+=curr\n",
        "    print(reach/n)\n",
        "\n",
        "#without biased probabilties\n",
        "move() \n",
        "move(prob=[0.2,0.3,0.2,0.1,0.1,0.1]) \n",
        "\n",
        "#with biased probabilities\n",
        "move(500)\n",
        "move(500,[0.2,0.3,0.2,0.1,0.1,0.1])"
      ],
      "execution_count": 2,
      "outputs": [
        {
          "output_type": "stream",
          "text": [
            "1.0\n",
            "0.27\n",
            "1.0\n",
            "0.32\n"
          ],
          "name": "stdout"
        }
      ]
    },
    {
      "cell_type": "markdown",
      "metadata": {
        "id": "olcCUHdG71PV",
        "colab_type": "text"
      },
      "source": [
        "Question 2:\n",
        "\n",
        "\n",
        "Generating data for multiple linear regression, Logistic regression, kmeans clustering is done in each class with generate data function.\n",
        "\n",
        "\n",
        "Question 3 and 4\n",
        "\n",
        "`oops is also applied`"
      ]
    },
    {
      "cell_type": "markdown",
      "metadata": {
        "id": "bz2JelQ8EL49",
        "colab_type": "text"
      },
      "source": [
        "Linear Regression with Gradient Descent\n"
      ]
    },
    {
      "cell_type": "code",
      "metadata": {
        "id": "lEys_sMUFjka",
        "colab_type": "code",
        "colab": {}
      },
      "source": [
        "class Regression_Gradient:\n",
        "\n",
        "  def __init__(self):\n",
        "    pass\n",
        "\n",
        "  def generatedata(self,a,b,c):\n",
        "    x = norm.rvs(0,1,200)\n",
        "    z = norm.rvs(1,2,200)\n",
        "    eps = norm.rvs(0,0.5,200)\n",
        "    y = c+(a*x)+(b*z)+eps\n",
        "\n",
        "    self.x = x\n",
        "    self.z = z\n",
        "    self.y = y\n",
        "\n",
        "  def fit(self,lr=0.05):\n",
        "    #weight and bias\n",
        "    self.w1 = 0\n",
        "    self.w2 = 0\n",
        "    self.b = 0\n",
        "\n",
        "    for xs,zs,ys in zip(self.x,self.z,self.y):\n",
        "      \n",
        "      yp = (self.w1*xs)+(self.w2*zs)+self.b\n",
        "\n",
        "      gw1 = -2*(xs*(ys-yp))\n",
        "      gw2 = -2*(zs*(ys-yp))\n",
        "      gb = -2*(ys-yp)\n",
        "\n",
        "      self.w1 = self.w1-(lr*gw1)\n",
        "      self.w2 = self.w2-(lr*gw2)\n",
        "      self.b = self.b-(lr*gb)\n",
        "\n",
        "    return self.w1,self.w2,self.b\n",
        "\n",
        "  def predict(self,X):\n",
        "\n",
        "      x1 = X[0]\n",
        "      x2 = X[1]\n",
        "      \n",
        "      pred = [self.b+(self.w1*xs)+(self.w2*zs) for xs,zs in zip(x1,x2)]\n",
        "\n",
        "      return pred\n",
        "\n"
      ],
      "execution_count": 0,
      "outputs": []
    },
    {
      "cell_type": "code",
      "metadata": {
        "id": "IOLUz7CEGoOp",
        "colab_type": "code",
        "outputId": "01709f74-6382-49f0-d16b-094222dd002f",
        "colab": {
          "base_uri": "https://localhost:8080/",
          "height": 33
        }
      },
      "source": [
        "model = Regression_Gradient()\n",
        "\n",
        "model.generatedata(0.5,0.7,-1)\n",
        "\n",
        "model.fit()"
      ],
      "execution_count": 6,
      "outputs": [
        {
          "output_type": "execute_result",
          "data": {
            "text/plain": [
              "(0.33009420203511675, 0.8259399161303942, -0.6855216999729464)"
            ]
          },
          "metadata": {
            "tags": []
          },
          "execution_count": 6
        }
      ]
    },
    {
      "cell_type": "code",
      "metadata": {
        "id": "uYIfEZI7RfMZ",
        "colab_type": "code",
        "outputId": "20687637-a7ff-491b-fad8-ce791a39b393",
        "colab": {
          "base_uri": "https://localhost:8080/",
          "height": 33
        }
      },
      "source": [
        "model.predict([[0.3,0.4,0.5],[1.3,1.7,1.8]])"
      ],
      "execution_count": 7,
      "outputs": [
        {
          "output_type": "execute_result",
          "data": {
            "text/plain": [
              "[0.48722845160710115, 0.8506138382627704, 0.9662172500793216]"
            ]
          },
          "metadata": {
            "tags": []
          },
          "execution_count": 7
        }
      ]
    },
    {
      "cell_type": "markdown",
      "metadata": {
        "id": "hglmmCuan61Z",
        "colab_type": "text"
      },
      "source": [
        "Linear Regression With L1 and L2 Regularization"
      ]
    },
    {
      "cell_type": "code",
      "metadata": {
        "id": "mLKEODdLO0rK",
        "colab_type": "code",
        "colab": {}
      },
      "source": [
        "class Linear_Gradient_Regularization:\n",
        "\n",
        "  def __init__(self):\n",
        "    pass\n",
        "\n",
        "  def generatedata(self,a,b,c):\n",
        "    x = norm.rvs(0,1,200)\n",
        "    z = norm.rvs(1,2,200)\n",
        "    eps = norm.rvs(0,0.5,200)\n",
        "    y = c+(a*x)+(b*z)+eps\n",
        "\n",
        "    self.x = x\n",
        "    self.z = z\n",
        "    self.y = y\n",
        "\n",
        "  def fit(self,lr=0.05,L1=0.05,L2=0.01):\n",
        "      self.w1 = 0\n",
        "      self.w2 = 0\n",
        "      self.b = 0\n",
        "\n",
        "      for xs,zs,ys in zip(self.x,self.z,self.y):\n",
        "        \n",
        "        yp = (self.w1*xs)+(self.w2*zs)+self.b\n",
        "\n",
        "        gw1 = -2*(xs*(ys-yp))\n",
        "        gw2 = -2*(zs*(ys-yp))\n",
        "        gb = -2*(ys-yp)\n",
        "\n",
        "        gw1 = gw1+(L1*1)+(L2*(self.w1*2))\n",
        "        gw2 = gw2+(L1*1)+(L2*(self.w2*2))\n",
        "\n",
        "        self.w1 = self.w1-(lr*gw1)\n",
        "        self.w2 = self.w2-(lr*gw2)\n",
        "        self.b = self.b-(lr*gb)\n",
        "\n",
        "      return self.w1,self.w2,self.b\n",
        "\n",
        "  def predict(self,X):\n",
        "      \n",
        "      x1 = X[0]\n",
        "      x2 = X[1]\n",
        "\n",
        "      pred = [self.b+(self.w1*xs)+(self.w2*zs) for xs,zs in zip(x1,x2)]\n",
        "\n",
        "      return pred\n",
        "    \n"
      ],
      "execution_count": 0,
      "outputs": []
    },
    {
      "cell_type": "code",
      "metadata": {
        "id": "kN4GNGgeN3sW",
        "colab_type": "code",
        "outputId": "dc3f074b-8f05-40f9-a153-ebcc3f7a5cb6",
        "colab": {
          "base_uri": "https://localhost:8080/",
          "height": 33
        }
      },
      "source": [
        "model = Linear_Gradient_Regularization()\n",
        "\n",
        "model.generatedata(0.6,0.8,-2)\n",
        "\n",
        "model.fit(0.05,0.05,0.01)"
      ],
      "execution_count": 13,
      "outputs": [
        {
          "output_type": "execute_result",
          "data": {
            "text/plain": [
              "(0.6398785619711809, 0.959741054788461, -2.0507760523629246)"
            ]
          },
          "metadata": {
            "tags": []
          },
          "execution_count": 13
        }
      ]
    },
    {
      "cell_type": "code",
      "metadata": {
        "id": "kqkFWmZZQ_Jv",
        "colab_type": "code",
        "outputId": "48bd4865-809f-46ba-cc0d-ed7b9501a2e1",
        "colab": {
          "base_uri": "https://localhost:8080/",
          "height": 33
        }
      },
      "source": [
        "model.predict([[0.3,0.4,0.5],[1.3,1.7,1.8]])"
      ],
      "execution_count": 14,
      "outputs": [
        {
          "output_type": "execute_result",
          "data": {
            "text/plain": [
              "[-0.6111491125465709, -0.16326483443406858, -0.0033028727581043693]"
            ]
          },
          "metadata": {
            "tags": []
          },
          "execution_count": 14
        }
      ]
    },
    {
      "cell_type": "markdown",
      "metadata": {
        "id": "9kV3dNmQJdv1",
        "colab_type": "text"
      },
      "source": [
        "Logistic Regression"
      ]
    },
    {
      "cell_type": "code",
      "metadata": {
        "id": "NLMX9PJ-JhdH",
        "colab_type": "code",
        "colab": {}
      },
      "source": [
        "class LogisticRegression:\n",
        "  random.seed(1)\n",
        "  def __init__(self):\n",
        "    pass\n",
        "\n",
        "  def sigmoid(self,x,m,c):\n",
        "    return (1/(1+np.exp(-(x*m+c))))\n",
        "  \n",
        "  def generatedata(self,m,c):\n",
        "    self.x = norm.rvs(0,1,200)\n",
        "    self.y = self.sigmoid(self.x,m,c)\n",
        "\n",
        "\n",
        "  def fit(self,lr=0.01):\n",
        "\n",
        "    self.w = 0\n",
        "    self.b = 0\n",
        "\n",
        "    for xs,ys in zip(self.x,self.y):\n",
        "      \n",
        "      yp = self.sigmoid(xs,self.w,self.b)\n",
        "\n",
        "      #gradients\n",
        "      gw = xs*(yp-ys)\n",
        "      gb = (yp-ys)\n",
        "\n",
        "      self.w = self.w - (lr*gw)\n",
        "      self.b = self.b - (lr*gb)\n",
        "\n",
        "    return self.w,self.b\n",
        "\n",
        "  def predict(self,X):\n",
        "    yp = []\n",
        "    for ys in X:\n",
        "      ys = self.sigmoid(ys,self.w,self.b)\n",
        "      if(ys<0.5):\n",
        "        yp.append(0)\n",
        "      else:\n",
        "        yp.append(1)\n",
        "\n",
        "    return yp\n"
      ],
      "execution_count": 0,
      "outputs": []
    },
    {
      "cell_type": "code",
      "metadata": {
        "id": "XA0ZXIMNfsCy",
        "colab_type": "code",
        "colab": {}
      },
      "source": [
        "model = LogisticRegression()\n",
        "\n",
        "model.generatedata(0.5,1)"
      ],
      "execution_count": 0,
      "outputs": []
    },
    {
      "cell_type": "code",
      "metadata": {
        "id": "dhTTF1jAh9Db",
        "colab_type": "code",
        "outputId": "ea68ff59-fc03-4b79-aa39-fa3f52fcb359",
        "colab": {
          "base_uri": "https://localhost:8080/",
          "height": 33
        }
      },
      "source": [
        "model.fit(lr =0.05)"
      ],
      "execution_count": 17,
      "outputs": [
        {
          "output_type": "execute_result",
          "data": {
            "text/plain": [
              "(0.41682125810157233, 0.8658314941785615)"
            ]
          },
          "metadata": {
            "tags": []
          },
          "execution_count": 17
        }
      ]
    },
    {
      "cell_type": "code",
      "metadata": {
        "id": "7DqjaoERif3Z",
        "colab_type": "code",
        "outputId": "70a2bf3b-37b6-49d5-d18c-1c640df20390",
        "colab": {
          "base_uri": "https://localhost:8080/",
          "height": 33
        }
      },
      "source": [
        "model.predict([0.5,0.3,0.9])"
      ],
      "execution_count": 18,
      "outputs": [
        {
          "output_type": "execute_result",
          "data": {
            "text/plain": [
              "[1, 1, 1]"
            ]
          },
          "metadata": {
            "tags": []
          },
          "execution_count": 18
        }
      ]
    },
    {
      "cell_type": "markdown",
      "metadata": {
        "id": "w_CRcbYLnzEa",
        "colab_type": "text"
      },
      "source": [
        "Logistic Regression With L1 and L2 Regularization"
      ]
    },
    {
      "cell_type": "code",
      "metadata": {
        "id": "yfZyoB-wnOJE",
        "colab_type": "code",
        "colab": {}
      },
      "source": [
        "class LogisticRegressionRegularization:\n",
        "  random.seed(1)\n",
        "  def __init__(self):\n",
        "    pass\n",
        "\n",
        "  def sigmoid(self,x,m,c):\n",
        "    return (1/(1+np.exp(-(x*m+c))))\n",
        "  \n",
        "  def generatedata(self,m,c):\n",
        "    self.x = norm.rvs(0,1,200)\n",
        "    self.y = self.sigmoid(self.x,m,c)\n",
        "\n",
        "\n",
        "  def fit(self,lr=0.01,L1=0.5,L2=0.1):\n",
        "\n",
        "    self.w = 0\n",
        "    self.b = 0\n",
        "\n",
        "    for xs,ys in zip(self.x,self.y):\n",
        "      \n",
        "      yp = self.sigmoid(xs,self.w,self.b)\n",
        "\n",
        "      #gradients\n",
        "      gw = xs*(yp-ys)\n",
        "      gb = (yp-ys)\n",
        "\n",
        "      gw = gw+(L1*1)+(L2*(self.w*2))\n",
        "\n",
        "      self.w = self.w - (lr*gw)\n",
        "      self.b = self.b - (lr*gb)\n",
        "\n",
        "    return self.w,self.b\n",
        "\n",
        "  def predict(self,X):\n",
        "    yp = []\n",
        "    for ys in X:\n",
        "      ys = self.sigmoid(ys,self.w,self.b)\n",
        "      if(ys<0.5):\n",
        "        yp.append(0)\n",
        "      else:\n",
        "        yp.append(1)\n",
        "\n",
        "    return yp"
      ],
      "execution_count": 0,
      "outputs": []
    },
    {
      "cell_type": "code",
      "metadata": {
        "id": "Rpg1agtnng_X",
        "colab_type": "code",
        "colab": {}
      },
      "source": [
        "model = LogisticRegressionRegularization()\n",
        "\n",
        "model.generatedata(0.5,1)"
      ],
      "execution_count": 0,
      "outputs": []
    },
    {
      "cell_type": "code",
      "metadata": {
        "id": "06VtBe_3nkMP",
        "colab_type": "code",
        "outputId": "65ce87ff-bbb8-456a-90f9-efcf23301d18",
        "colab": {
          "base_uri": "https://localhost:8080/",
          "height": 33
        }
      },
      "source": [
        "model.fit(lr = 0.05,L1=0.04,L2=0.01)"
      ],
      "execution_count": 29,
      "outputs": [
        {
          "output_type": "execute_result",
          "data": {
            "text/plain": [
              "(0.23855164591240438, 0.8644303847405317)"
            ]
          },
          "metadata": {
            "tags": []
          },
          "execution_count": 29
        }
      ]
    },
    {
      "cell_type": "code",
      "metadata": {
        "id": "zN3AWML-nur3",
        "colab_type": "code",
        "outputId": "70db7d90-081e-409b-d5ef-9473e29bc4a4",
        "colab": {
          "base_uri": "https://localhost:8080/",
          "height": 33
        }
      },
      "source": [
        "model.predict([0.5,0.3,0.9])"
      ],
      "execution_count": 30,
      "outputs": [
        {
          "output_type": "execute_result",
          "data": {
            "text/plain": [
              "[1, 1, 1]"
            ]
          },
          "metadata": {
            "tags": []
          },
          "execution_count": 30
        }
      ]
    },
    {
      "cell_type": "markdown",
      "metadata": {
        "id": "cUoQpIR-oFZJ",
        "colab_type": "text"
      },
      "source": [
        "K-Means Clustering"
      ]
    },
    {
      "cell_type": "code",
      "metadata": {
        "id": "TYgfvNe2uZ5-",
        "colab_type": "code",
        "colab": {}
      },
      "source": [
        "import math"
      ],
      "execution_count": 0,
      "outputs": []
    },
    {
      "cell_type": "code",
      "metadata": {
        "id": "ofsO8tSooEh8",
        "colab_type": "code",
        "colab": {}
      },
      "source": [
        "class KmeansClustering:\n",
        "\n",
        "  def __init__(self):\n",
        "    pass\n",
        "\n",
        "  def generatedata(self):\n",
        "    X1 = -3 * np.random.rand(100,2)\n",
        "    X2 = 1 + 3 * np.random.rand(50,2)\n",
        "    X1[50:100, :] = X2\n",
        "\n",
        "    self.X = X1[:,0]\n",
        "    self.Y = X1[:,1]\n",
        "\n",
        "    plt.scatter(self.X, self.Y, s = 50,c='b')\n",
        "    plt.show()\n",
        "\n",
        "    print(len(self.X))\n",
        "    print(len(self.Y))\n",
        "\n",
        "  def distance(self,a,b):\n",
        "\n",
        "    return math.sqrt((a[0]-b[0])**2 + (a[1]-b[1])**2)\n",
        "\n",
        "  def cluster(self,k = 2,iters = 50):\n",
        "\n",
        "    data = list(zip(self.X,self.Y))\n",
        "    centroids = data[:k]\n",
        "    print(\"initial\")\n",
        "    print(centroids)\n",
        "\n",
        "    for iter in range(iters):\n",
        "\n",
        "      c = [ [] for i in range(k)]\n",
        "\n",
        "      for xs,ys in zip(self.X,self.Y):\n",
        "\n",
        "        clust = 0\n",
        "        min = -1\n",
        "        i = 0\n",
        "        flag = 0\n",
        "        for d in centroids:\n",
        "          if(flag==0):\n",
        "            min = self.distance((xs,ys),d)\n",
        "            flag = 1\n",
        "          else:\n",
        "              d = self.distance((xs,ys),d)\n",
        "              if(min>d):\n",
        "                clust = i\n",
        "                min = d\n",
        "          \n",
        "          i+=1\n",
        "\n",
        "        c[clust].append([xs,ys])\n",
        "\n",
        "      for i in range(len(c)):\n",
        "        xp = sum(np.array(c[i])[:,0])/len(c[i])\n",
        "        yp = sum(np.array(c[i])[:,1])/len(c[i])\n",
        "        centroids[i] = [xp,yp]\n",
        "\n",
        "\n",
        "    print(centroids)\n",
        "    centroids = np.array(centroids)\n",
        "    plt.scatter(self.X, self.Y, s = 20,c='b')\n",
        "    plt.scatter(centroids[:,0],centroids[:,1],s=60,c='r')\n",
        "    self.cents = centroids\n",
        "\n",
        "  def predict(self,Xs):\n",
        "    for xs,ys in Xs:\n",
        "      clust = 0\n",
        "      min = -1\n",
        "      i = 0\n",
        "      flag = 0\n",
        "      for d in self.cents:\n",
        "        if(flag==0):\n",
        "           min = self.distance((xs,ys),d)\n",
        "           flag = 1\n",
        "        else:\n",
        "\n",
        "          d = self.distance((xs,ys),d)\n",
        "          if(min>d):\n",
        "           clust = i\n",
        "           min = d\n",
        "              \n",
        "        i+=1\n",
        "\n",
        "      print(clust)"
      ],
      "execution_count": 0,
      "outputs": []
    },
    {
      "cell_type": "code",
      "metadata": {
        "id": "54AXudTapIJG",
        "colab_type": "code",
        "outputId": "6b26796c-fd11-48c1-a22b-51c5ac411edc",
        "colab": {
          "base_uri": "https://localhost:8080/",
          "height": 297
        }
      },
      "source": [
        "model = KmeansClustering()\n",
        "\n",
        "model.generatedata()"
      ],
      "execution_count": 40,
      "outputs": [
        {
          "output_type": "display_data",
          "data": {
            "image/png": "[encoded data removed]",
            "text/plain": [
              "<Figure size 432x288 with 1 Axes>"
            ]
          },
          "metadata": {
            "tags": [],
            "needs_background": "light"
          }
        },
        {
          "output_type": "stream",
          "text": [
            "100\n",
            "100\n"
          ],
          "name": "stdout"
        }
      ]
    },
    {
      "cell_type": "code",
      "metadata": {
        "id": "Yo0XJYG8qota",
        "colab_type": "code",
        "outputId": "d90c735f-5bfe-4d12-8715-5dd7e9d20359",
        "colab": {
          "base_uri": "https://localhost:8080/",
          "height": 314
        }
      },
      "source": [
        "model.cluster(k=3,iters=30)"
      ],
      "execution_count": 49,
      "outputs": [
        {
          "output_type": "stream",
          "text": [
            "initial\n",
            "[(-2.97402476097253, -0.89279319288953), (-0.1744589863959668, -0.038037721646876244), (-1.2834588879131785, -0.8497246841389455)]\n",
            "[[-2.4272391539464317, -1.3356529261188195], [2.4231780592682033, 2.578300474165063], [-0.9161868919006851, -1.635183600197493]]\n"
          ],
          "name": "stdout"
        },
        {
          "output_type": "display_data",
          "data": {
            "image/png": "[encoded data removed]",
            "text/plain": [
              "<Figure size 432x288 with 1 Axes>"
            ]
          },
          "metadata": {
            "tags": [],
            "needs_background": "light"
          }
        }
      ]
    },
    {
      "cell_type": "code",
      "metadata": {
        "id": "OWsWyKCOvpeu",
        "colab_type": "code",
        "outputId": "83906867-16dd-424e-c0cc-f942c3b4214e",
        "colab": {
          "base_uri": "https://localhost:8080/",
          "height": 66
        }
      },
      "source": [
        "model.predict([[-1,2],[2,2],[-1,-1]])"
      ],
      "execution_count": 50,
      "outputs": [
        {
          "output_type": "stream",
          "text": [
            "1\n",
            "1\n",
            "2\n"
          ],
          "name": "stdout"
        }
      ]
    }
  ]
}